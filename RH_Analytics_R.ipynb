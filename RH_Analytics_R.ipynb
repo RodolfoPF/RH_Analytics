{
 "cells": [
  {
   "cell_type": "markdown",
   "id": "f7d63108",
   "metadata": {},
   "source": [
    "# Projeto de RH Analytics\n",
    "\n",
    "## Prevendo Perda de Funcionários\n",
    "\n",
    "## Objetivo:\n",
    "- Fazer implementação de uma análise de rotatividade de funcionários coma biblioteca Scikit-Learn\n",
    "\n",
    "## Contexto:\n",
    "- Rotatividade de funcionários ou turnover é a medida do número total de funcionários que deixaram uma empresa em um determinado ano.\n",
    "- Previsão de rotatividade de funcionários segnifica prever se um funcionário deixará a organização no próximo período.\n",
    "- Uma empresa usa essa análise preditiva para medir de quantos funcionários serão necessários se os funcionários em potencial deixarem sua organização.\n",
    "- Uma empresa também usa essa análise preditivapara tornar o local de trabalho melhor para funcionários, entendendo as pricipais razões para a alta taxa de rotatividade."
   ]
  },
  {
   "cell_type": "code",
   "execution_count": 1,
   "id": "2d78694a",
   "metadata": {},
   "outputs": [],
   "source": [
    "# Importando as bibliotecas.\n",
    "import pandas as pd\n",
    "import numpy as np\n",
    "import matplotlib.pyplot as plt\n",
    "import seaborn as sns\n",
    "from sklearn.feature_selection import RFE\n",
    "from sklearn.linear_model import LogisticRegression\n",
    "from sklearn.model_selection import train_test_split\n",
    "from sklearn.ensemble import RandomForestClassifier\n",
    "from xgboost import XGBClassifier\n",
    "from sklearn import metrics\n",
    "%matplotlib inline"
   ]
  },
  {
   "cell_type": "code",
   "execution_count": 2,
   "id": "23f555f1",
   "metadata": {},
   "outputs": [],
   "source": [
    "# Importando os dados.\n",
    "rh_data = pd.read_csv(\"rh_analytics.csv\")"
   ]
  },
  {
   "cell_type": "code",
   "execution_count": 3,
   "id": "e66e6949",
   "metadata": {},
   "outputs": [
    {
     "data": {
      "text/html": [
       "<div>\n",
       "<style scoped>\n",
       "    .dataframe tbody tr th:only-of-type {\n",
       "        vertical-align: middle;\n",
       "    }\n",
       "\n",
       "    .dataframe tbody tr th {\n",
       "        vertical-align: top;\n",
       "    }\n",
       "\n",
       "    .dataframe thead th {\n",
       "        text-align: right;\n",
       "    }\n",
       "</style>\n",
       "<table border=\"1\" class=\"dataframe\">\n",
       "  <thead>\n",
       "    <tr style=\"text-align: right;\">\n",
       "      <th></th>\n",
       "      <th>satisfaction_level</th>\n",
       "      <th>last_evaluation</th>\n",
       "      <th>number_project</th>\n",
       "      <th>average_montly_hours</th>\n",
       "      <th>time_spend_company</th>\n",
       "      <th>Work_accident</th>\n",
       "      <th>left</th>\n",
       "      <th>promotion_last_5years</th>\n",
       "      <th>sales</th>\n",
       "      <th>salary</th>\n",
       "    </tr>\n",
       "  </thead>\n",
       "  <tbody>\n",
       "    <tr>\n",
       "      <th>0</th>\n",
       "      <td>0.38</td>\n",
       "      <td>0.53</td>\n",
       "      <td>2</td>\n",
       "      <td>157</td>\n",
       "      <td>3</td>\n",
       "      <td>0</td>\n",
       "      <td>1</td>\n",
       "      <td>0</td>\n",
       "      <td>sales</td>\n",
       "      <td>low</td>\n",
       "    </tr>\n",
       "    <tr>\n",
       "      <th>1</th>\n",
       "      <td>0.80</td>\n",
       "      <td>0.86</td>\n",
       "      <td>5</td>\n",
       "      <td>262</td>\n",
       "      <td>6</td>\n",
       "      <td>0</td>\n",
       "      <td>1</td>\n",
       "      <td>0</td>\n",
       "      <td>sales</td>\n",
       "      <td>medium</td>\n",
       "    </tr>\n",
       "    <tr>\n",
       "      <th>2</th>\n",
       "      <td>0.11</td>\n",
       "      <td>0.88</td>\n",
       "      <td>7</td>\n",
       "      <td>272</td>\n",
       "      <td>4</td>\n",
       "      <td>0</td>\n",
       "      <td>1</td>\n",
       "      <td>0</td>\n",
       "      <td>sales</td>\n",
       "      <td>medium</td>\n",
       "    </tr>\n",
       "    <tr>\n",
       "      <th>3</th>\n",
       "      <td>0.72</td>\n",
       "      <td>0.87</td>\n",
       "      <td>5</td>\n",
       "      <td>223</td>\n",
       "      <td>5</td>\n",
       "      <td>0</td>\n",
       "      <td>1</td>\n",
       "      <td>0</td>\n",
       "      <td>sales</td>\n",
       "      <td>low</td>\n",
       "    </tr>\n",
       "    <tr>\n",
       "      <th>4</th>\n",
       "      <td>0.37</td>\n",
       "      <td>0.52</td>\n",
       "      <td>2</td>\n",
       "      <td>159</td>\n",
       "      <td>3</td>\n",
       "      <td>0</td>\n",
       "      <td>1</td>\n",
       "      <td>0</td>\n",
       "      <td>sales</td>\n",
       "      <td>low</td>\n",
       "    </tr>\n",
       "  </tbody>\n",
       "</table>\n",
       "</div>"
      ],
      "text/plain": [
       "   satisfaction_level  last_evaluation  number_project  average_montly_hours  \\\n",
       "0                0.38             0.53               2                   157   \n",
       "1                0.80             0.86               5                   262   \n",
       "2                0.11             0.88               7                   272   \n",
       "3                0.72             0.87               5                   223   \n",
       "4                0.37             0.52               2                   159   \n",
       "\n",
       "   time_spend_company  Work_accident  left  promotion_last_5years  sales  \\\n",
       "0                   3              0     1                      0  sales   \n",
       "1                   6              0     1                      0  sales   \n",
       "2                   4              0     1                      0  sales   \n",
       "3                   5              0     1                      0  sales   \n",
       "4                   3              0     1                      0  sales   \n",
       "\n",
       "   salary  \n",
       "0     low  \n",
       "1  medium  \n",
       "2  medium  \n",
       "3     low  \n",
       "4     low  "
      ]
     },
     "execution_count": 3,
     "metadata": {},
     "output_type": "execute_result"
    }
   ],
   "source": [
    "# Visualizando como os dados estão dispostos.\n",
    "rh_data.head()"
   ]
  },
  {
   "cell_type": "markdown",
   "id": "5ad20390",
   "metadata": {},
   "source": [
    "##### A coluna \"left\" é a variável target. "
   ]
  },
  {
   "cell_type": "code",
   "execution_count": 4,
   "id": "bafe2f81",
   "metadata": {},
   "outputs": [
    {
     "data": {
      "text/html": [
       "<div>\n",
       "<style scoped>\n",
       "    .dataframe tbody tr th:only-of-type {\n",
       "        vertical-align: middle;\n",
       "    }\n",
       "\n",
       "    .dataframe tbody tr th {\n",
       "        vertical-align: top;\n",
       "    }\n",
       "\n",
       "    .dataframe thead th {\n",
       "        text-align: right;\n",
       "    }\n",
       "</style>\n",
       "<table border=\"1\" class=\"dataframe\">\n",
       "  <thead>\n",
       "    <tr style=\"text-align: right;\">\n",
       "      <th></th>\n",
       "      <th>satisfaction_level</th>\n",
       "      <th>last_evaluation</th>\n",
       "      <th>number_project</th>\n",
       "      <th>average_montly_hours</th>\n",
       "      <th>time_spend_company</th>\n",
       "      <th>Work_accident</th>\n",
       "      <th>left</th>\n",
       "      <th>promotion_last_5years</th>\n",
       "    </tr>\n",
       "  </thead>\n",
       "  <tbody>\n",
       "    <tr>\n",
       "      <th>count</th>\n",
       "      <td>14999.000000</td>\n",
       "      <td>14999.000000</td>\n",
       "      <td>14999.000000</td>\n",
       "      <td>14999.000000</td>\n",
       "      <td>14999.000000</td>\n",
       "      <td>14999.000000</td>\n",
       "      <td>14999.000000</td>\n",
       "      <td>14999.000000</td>\n",
       "    </tr>\n",
       "    <tr>\n",
       "      <th>mean</th>\n",
       "      <td>0.612834</td>\n",
       "      <td>0.716102</td>\n",
       "      <td>3.803054</td>\n",
       "      <td>201.050337</td>\n",
       "      <td>3.498233</td>\n",
       "      <td>0.144610</td>\n",
       "      <td>0.238083</td>\n",
       "      <td>0.021268</td>\n",
       "    </tr>\n",
       "    <tr>\n",
       "      <th>std</th>\n",
       "      <td>0.248631</td>\n",
       "      <td>0.171169</td>\n",
       "      <td>1.232592</td>\n",
       "      <td>49.943099</td>\n",
       "      <td>1.460136</td>\n",
       "      <td>0.351719</td>\n",
       "      <td>0.425924</td>\n",
       "      <td>0.144281</td>\n",
       "    </tr>\n",
       "    <tr>\n",
       "      <th>min</th>\n",
       "      <td>0.090000</td>\n",
       "      <td>0.360000</td>\n",
       "      <td>2.000000</td>\n",
       "      <td>96.000000</td>\n",
       "      <td>2.000000</td>\n",
       "      <td>0.000000</td>\n",
       "      <td>0.000000</td>\n",
       "      <td>0.000000</td>\n",
       "    </tr>\n",
       "    <tr>\n",
       "      <th>25%</th>\n",
       "      <td>0.440000</td>\n",
       "      <td>0.560000</td>\n",
       "      <td>3.000000</td>\n",
       "      <td>156.000000</td>\n",
       "      <td>3.000000</td>\n",
       "      <td>0.000000</td>\n",
       "      <td>0.000000</td>\n",
       "      <td>0.000000</td>\n",
       "    </tr>\n",
       "    <tr>\n",
       "      <th>50%</th>\n",
       "      <td>0.640000</td>\n",
       "      <td>0.720000</td>\n",
       "      <td>4.000000</td>\n",
       "      <td>200.000000</td>\n",
       "      <td>3.000000</td>\n",
       "      <td>0.000000</td>\n",
       "      <td>0.000000</td>\n",
       "      <td>0.000000</td>\n",
       "    </tr>\n",
       "    <tr>\n",
       "      <th>75%</th>\n",
       "      <td>0.820000</td>\n",
       "      <td>0.870000</td>\n",
       "      <td>5.000000</td>\n",
       "      <td>245.000000</td>\n",
       "      <td>4.000000</td>\n",
       "      <td>0.000000</td>\n",
       "      <td>0.000000</td>\n",
       "      <td>0.000000</td>\n",
       "    </tr>\n",
       "    <tr>\n",
       "      <th>max</th>\n",
       "      <td>1.000000</td>\n",
       "      <td>1.000000</td>\n",
       "      <td>7.000000</td>\n",
       "      <td>310.000000</td>\n",
       "      <td>10.000000</td>\n",
       "      <td>1.000000</td>\n",
       "      <td>1.000000</td>\n",
       "      <td>1.000000</td>\n",
       "    </tr>\n",
       "  </tbody>\n",
       "</table>\n",
       "</div>"
      ],
      "text/plain": [
       "       satisfaction_level  last_evaluation  number_project  \\\n",
       "count        14999.000000     14999.000000    14999.000000   \n",
       "mean             0.612834         0.716102        3.803054   \n",
       "std              0.248631         0.171169        1.232592   \n",
       "min              0.090000         0.360000        2.000000   \n",
       "25%              0.440000         0.560000        3.000000   \n",
       "50%              0.640000         0.720000        4.000000   \n",
       "75%              0.820000         0.870000        5.000000   \n",
       "max              1.000000         1.000000        7.000000   \n",
       "\n",
       "       average_montly_hours  time_spend_company  Work_accident          left  \\\n",
       "count          14999.000000        14999.000000   14999.000000  14999.000000   \n",
       "mean             201.050337            3.498233       0.144610      0.238083   \n",
       "std               49.943099            1.460136       0.351719      0.425924   \n",
       "min               96.000000            2.000000       0.000000      0.000000   \n",
       "25%              156.000000            3.000000       0.000000      0.000000   \n",
       "50%              200.000000            3.000000       0.000000      0.000000   \n",
       "75%              245.000000            4.000000       0.000000      0.000000   \n",
       "max              310.000000           10.000000       1.000000      1.000000   \n",
       "\n",
       "       promotion_last_5years  \n",
       "count           14999.000000  \n",
       "mean                0.021268  \n",
       "std                 0.144281  \n",
       "min                 0.000000  \n",
       "25%                 0.000000  \n",
       "50%                 0.000000  \n",
       "75%                 0.000000  \n",
       "max                 1.000000  "
      ]
     },
     "execution_count": 4,
     "metadata": {},
     "output_type": "execute_result"
    }
   ],
   "source": [
    "# Estatísticas básicas\n",
    "rh_data.describe()"
   ]
  },
  {
   "cell_type": "markdown",
   "id": "addcb864",
   "metadata": {},
   "source": [
    "##### Teve profissionais que pegaram até 7 projetos sendo que a mediana é de 4 o que pode ser uma alta demanda e pode gerar desgaste do funcionário. Levando em consideração 44 horas de trabalho semanal o que totalizaria 176 horas mensais percebemos que a mediana de horas trabalhadas é de 200 horas mensais com profissionais chegando a trabalhar 310 horas no mês."
   ]
  },
  {
   "cell_type": "code",
   "execution_count": 5,
   "id": "8a6f95d8",
   "metadata": {},
   "outputs": [
    {
     "data": {
      "text/plain": [
       "(14999, 10)"
      ]
     },
     "execution_count": 5,
     "metadata": {},
     "output_type": "execute_result"
    }
   ],
   "source": [
    "# Visualizando as dimensões do dataset.\n",
    "rh_data.shape"
   ]
  },
  {
   "cell_type": "code",
   "execution_count": 6,
   "id": "2c520d6c",
   "metadata": {},
   "outputs": [
    {
     "data": {
      "text/plain": [
       "satisfaction_level       0\n",
       "last_evaluation          0\n",
       "number_project           0\n",
       "average_montly_hours     0\n",
       "time_spend_company       0\n",
       "Work_accident            0\n",
       "left                     0\n",
       "promotion_last_5years    0\n",
       "sales                    0\n",
       "salary                   0\n",
       "dtype: int64"
      ]
     },
     "execution_count": 6,
     "metadata": {},
     "output_type": "execute_result"
    }
   ],
   "source": [
    "# Visualizando valores missing\n",
    "rh_data.isnull().sum()"
   ]
  },
  {
   "cell_type": "code",
   "execution_count": 7,
   "id": "adef37d8",
   "metadata": {},
   "outputs": [
    {
     "data": {
      "text/plain": [
       "3008"
      ]
     },
     "execution_count": 7,
     "metadata": {},
     "output_type": "execute_result"
    }
   ],
   "source": [
    "# Visualizando linhas duplicadas\n",
    "rh_data.duplicated().sum()"
   ]
  },
  {
   "cell_type": "code",
   "execution_count": 8,
   "id": "798119b6",
   "metadata": {},
   "outputs": [
    {
     "name": "stdout",
     "output_type": "stream",
     "text": [
      "<class 'pandas.core.frame.DataFrame'>\n",
      "RangeIndex: 14999 entries, 0 to 14998\n",
      "Data columns (total 10 columns):\n",
      " #   Column                 Non-Null Count  Dtype  \n",
      "---  ------                 --------------  -----  \n",
      " 0   satisfaction_level     14999 non-null  float64\n",
      " 1   last_evaluation        14999 non-null  float64\n",
      " 2   number_project         14999 non-null  int64  \n",
      " 3   average_montly_hours   14999 non-null  int64  \n",
      " 4   time_spend_company     14999 non-null  int64  \n",
      " 5   Work_accident          14999 non-null  int64  \n",
      " 6   left                   14999 non-null  int64  \n",
      " 7   promotion_last_5years  14999 non-null  int64  \n",
      " 8   sales                  14999 non-null  object \n",
      " 9   salary                 14999 non-null  object \n",
      "dtypes: float64(2), int64(6), object(2)\n",
      "memory usage: 1.1+ MB\n"
     ]
    }
   ],
   "source": [
    "# Visualizando o tipo de dado contido nas colunas.\n",
    "rh_data.info()"
   ]
  },
  {
   "cell_type": "markdown",
   "id": "8cb47656",
   "metadata": {},
   "source": [
    "##### Temos um total de 14.999 entradas de dados, o dataset conta com 10 colunas sendo 8 numéricas e 2 não numéricas, não temos dados ausentes no dataset e contamos com 3008 colunas com valores iguais."
   ]
  },
  {
   "cell_type": "code",
   "execution_count": 9,
   "id": "c7456046",
   "metadata": {},
   "outputs": [
    {
     "data": {
      "text/html": [
       "<div>\n",
       "<style scoped>\n",
       "    .dataframe tbody tr th:only-of-type {\n",
       "        vertical-align: middle;\n",
       "    }\n",
       "\n",
       "    .dataframe tbody tr th {\n",
       "        vertical-align: top;\n",
       "    }\n",
       "\n",
       "    .dataframe thead th {\n",
       "        text-align: right;\n",
       "    }\n",
       "</style>\n",
       "<table border=\"1\" class=\"dataframe\">\n",
       "  <thead>\n",
       "    <tr style=\"text-align: right;\">\n",
       "      <th></th>\n",
       "      <th>satisfaction_level</th>\n",
       "      <th>last_evaluation</th>\n",
       "      <th>number_project</th>\n",
       "      <th>average_montly_hours</th>\n",
       "      <th>time_spend_company</th>\n",
       "      <th>Work_accident</th>\n",
       "      <th>left</th>\n",
       "      <th>promotion_last_5years</th>\n",
       "    </tr>\n",
       "  </thead>\n",
       "  <tbody>\n",
       "    <tr>\n",
       "      <th>satisfaction_level</th>\n",
       "      <td>1.000000</td>\n",
       "      <td>0.105021</td>\n",
       "      <td>-0.142970</td>\n",
       "      <td>-0.020048</td>\n",
       "      <td>-0.100866</td>\n",
       "      <td>0.058697</td>\n",
       "      <td>-0.388375</td>\n",
       "      <td>0.025605</td>\n",
       "    </tr>\n",
       "    <tr>\n",
       "      <th>last_evaluation</th>\n",
       "      <td>0.105021</td>\n",
       "      <td>1.000000</td>\n",
       "      <td>0.349333</td>\n",
       "      <td>0.339742</td>\n",
       "      <td>0.131591</td>\n",
       "      <td>-0.007104</td>\n",
       "      <td>0.006567</td>\n",
       "      <td>-0.008684</td>\n",
       "    </tr>\n",
       "    <tr>\n",
       "      <th>number_project</th>\n",
       "      <td>-0.142970</td>\n",
       "      <td>0.349333</td>\n",
       "      <td>1.000000</td>\n",
       "      <td>0.417211</td>\n",
       "      <td>0.196786</td>\n",
       "      <td>-0.004741</td>\n",
       "      <td>0.023787</td>\n",
       "      <td>-0.006064</td>\n",
       "    </tr>\n",
       "    <tr>\n",
       "      <th>average_montly_hours</th>\n",
       "      <td>-0.020048</td>\n",
       "      <td>0.339742</td>\n",
       "      <td>0.417211</td>\n",
       "      <td>1.000000</td>\n",
       "      <td>0.127755</td>\n",
       "      <td>-0.010143</td>\n",
       "      <td>0.071287</td>\n",
       "      <td>-0.003544</td>\n",
       "    </tr>\n",
       "    <tr>\n",
       "      <th>time_spend_company</th>\n",
       "      <td>-0.100866</td>\n",
       "      <td>0.131591</td>\n",
       "      <td>0.196786</td>\n",
       "      <td>0.127755</td>\n",
       "      <td>1.000000</td>\n",
       "      <td>0.002120</td>\n",
       "      <td>0.144822</td>\n",
       "      <td>0.067433</td>\n",
       "    </tr>\n",
       "    <tr>\n",
       "      <th>Work_accident</th>\n",
       "      <td>0.058697</td>\n",
       "      <td>-0.007104</td>\n",
       "      <td>-0.004741</td>\n",
       "      <td>-0.010143</td>\n",
       "      <td>0.002120</td>\n",
       "      <td>1.000000</td>\n",
       "      <td>-0.154622</td>\n",
       "      <td>0.039245</td>\n",
       "    </tr>\n",
       "    <tr>\n",
       "      <th>left</th>\n",
       "      <td>-0.388375</td>\n",
       "      <td>0.006567</td>\n",
       "      <td>0.023787</td>\n",
       "      <td>0.071287</td>\n",
       "      <td>0.144822</td>\n",
       "      <td>-0.154622</td>\n",
       "      <td>1.000000</td>\n",
       "      <td>-0.061788</td>\n",
       "    </tr>\n",
       "    <tr>\n",
       "      <th>promotion_last_5years</th>\n",
       "      <td>0.025605</td>\n",
       "      <td>-0.008684</td>\n",
       "      <td>-0.006064</td>\n",
       "      <td>-0.003544</td>\n",
       "      <td>0.067433</td>\n",
       "      <td>0.039245</td>\n",
       "      <td>-0.061788</td>\n",
       "      <td>1.000000</td>\n",
       "    </tr>\n",
       "  </tbody>\n",
       "</table>\n",
       "</div>"
      ],
      "text/plain": [
       "                       satisfaction_level  last_evaluation  number_project  \\\n",
       "satisfaction_level               1.000000         0.105021       -0.142970   \n",
       "last_evaluation                  0.105021         1.000000        0.349333   \n",
       "number_project                  -0.142970         0.349333        1.000000   \n",
       "average_montly_hours            -0.020048         0.339742        0.417211   \n",
       "time_spend_company              -0.100866         0.131591        0.196786   \n",
       "Work_accident                    0.058697        -0.007104       -0.004741   \n",
       "left                            -0.388375         0.006567        0.023787   \n",
       "promotion_last_5years            0.025605        -0.008684       -0.006064   \n",
       "\n",
       "                       average_montly_hours  time_spend_company  \\\n",
       "satisfaction_level                -0.020048           -0.100866   \n",
       "last_evaluation                    0.339742            0.131591   \n",
       "number_project                     0.417211            0.196786   \n",
       "average_montly_hours               1.000000            0.127755   \n",
       "time_spend_company                 0.127755            1.000000   \n",
       "Work_accident                     -0.010143            0.002120   \n",
       "left                               0.071287            0.144822   \n",
       "promotion_last_5years             -0.003544            0.067433   \n",
       "\n",
       "                       Work_accident      left  promotion_last_5years  \n",
       "satisfaction_level          0.058697 -0.388375               0.025605  \n",
       "last_evaluation            -0.007104  0.006567              -0.008684  \n",
       "number_project             -0.004741  0.023787              -0.006064  \n",
       "average_montly_hours       -0.010143  0.071287              -0.003544  \n",
       "time_spend_company          0.002120  0.144822               0.067433  \n",
       "Work_accident               1.000000 -0.154622               0.039245  \n",
       "left                       -0.154622  1.000000              -0.061788  \n",
       "promotion_last_5years       0.039245 -0.061788               1.000000  "
      ]
     },
     "execution_count": 9,
     "metadata": {},
     "output_type": "execute_result"
    }
   ],
   "source": [
    "rh_data.corr()"
   ]
  },
  {
   "cell_type": "code",
   "execution_count": 10,
   "id": "248faacc",
   "metadata": {},
   "outputs": [
    {
     "name": "stdout",
     "output_type": "stream",
     "text": [
      "count    14999.000000\n",
      "mean         0.612834\n",
      "std          0.248631\n",
      "min          0.090000\n",
      "25%          0.440000\n",
      "50%          0.640000\n",
      "75%          0.820000\n",
      "max          1.000000\n",
      "Name: satisfaction_level, dtype: float64\n"
     ]
    }
   ],
   "source": [
    "# Explorando a coluna \"satisfaction_level\"\n",
    "\n",
    "print(rh_data[\"satisfaction_level\"].describe())"
   ]
  },
  {
   "cell_type": "code",
   "execution_count": 11,
   "id": "2ab4747b",
   "metadata": {},
   "outputs": [
    {
     "name": "stdout",
     "output_type": "stream",
     "text": [
      "-0.4763603412839644\n"
     ]
    }
   ],
   "source": [
    "print(rh_data[\"satisfaction_level\"].skew())"
   ]
  },
  {
   "cell_type": "code",
   "execution_count": 12,
   "id": "c339a519",
   "metadata": {},
   "outputs": [
    {
     "data": {
      "text/plain": [
       "<AxesSubplot:xlabel='satisfaction_level', ylabel='Count'>"
      ]
     },
     "execution_count": 12,
     "metadata": {},
     "output_type": "execute_result"
    },
    {
     "data": {
      "image/png": "[encoded data removed]",
      "text/plain": [
       "<Figure size 432x288 with 1 Axes>"
      ]
     },
     "metadata": {
      "needs_background": "light"
     },
     "output_type": "display_data"
    }
   ],
   "source": [
    "sns.histplot(x = rh_data[\"satisfaction_level\"], kde = True)"
   ]
  },
  {
   "cell_type": "code",
   "execution_count": 13,
   "id": "a1883ad4",
   "metadata": {},
   "outputs": [
    {
     "data": {
      "text/plain": [
       "<AxesSubplot:xlabel='satisfaction_level', ylabel='Density'>"
      ]
     },
     "execution_count": 13,
     "metadata": {},
     "output_type": "execute_result"
    },
    {
     "data": {
      "image/png": "[encoded data removed]",
      "text/plain": [
       "<Figure size 432x288 with 1 Axes>"
      ]
     },
     "metadata": {
      "needs_background": "light"
     },
     "output_type": "display_data"
    }
   ],
   "source": [
    "sns.kdeplot(data = rh_data, x = \"satisfaction_level\", hue= \"salary\")"
   ]
  },
  {
   "cell_type": "code",
   "execution_count": 14,
   "id": "6285c136",
   "metadata": {},
   "outputs": [
    {
     "data": {
      "text/plain": [
       "<AxesSubplot:xlabel='salary', ylabel='satisfaction_level'>"
      ]
     },
     "execution_count": 14,
     "metadata": {},
     "output_type": "execute_result"
    },
    {
     "data": {
      "image/png": "[encoded data removed]",
      "text/plain": [
       "<Figure size 864x576 with 1 Axes>"
      ]
     },
     "metadata": {
      "needs_background": "light"
     },
     "output_type": "display_data"
    }
   ],
   "source": [
    "plt.figure(figsize=(12,8))\n",
    "sns.barplot(x = \"salary\", y = \"satisfaction_level\", data = rh_data, hue=\"number_project\")"
   ]
  },
  {
   "cell_type": "code",
   "execution_count": 15,
   "id": "6130b184",
   "metadata": {},
   "outputs": [
    {
     "data": {
      "text/plain": [
       "<AxesSubplot:xlabel='average_montly_hours', ylabel='Count'>"
      ]
     },
     "execution_count": 15,
     "metadata": {},
     "output_type": "execute_result"
    },
    {
     "data": {
      "image/png": "[encoded data removed]",
      "text/plain": [
       "<Figure size 432x288 with 1 Axes>"
      ]
     },
     "metadata": {
      "needs_background": "light"
     },
     "output_type": "display_data"
    }
   ],
   "source": [
    "# Explorando a coluna Average Montly Hours\n",
    "sns.histplot(data = rh_data, x = \"average_montly_hours\", kde=True)"
   ]
  },
  {
   "cell_type": "code",
   "execution_count": 16,
   "id": "03e58512",
   "metadata": {},
   "outputs": [
    {
     "name": "stdout",
     "output_type": "stream",
     "text": [
      "count    14999.000000\n",
      "mean       201.050337\n",
      "std         49.943099\n",
      "min         96.000000\n",
      "25%        156.000000\n",
      "50%        200.000000\n",
      "75%        245.000000\n",
      "max        310.000000\n",
      "Name: average_montly_hours, dtype: float64\n"
     ]
    },
    {
     "data": {
      "text/plain": [
       "<AxesSubplot:ylabel='average_montly_hours'>"
      ]
     },
     "execution_count": 16,
     "metadata": {},
     "output_type": "execute_result"
    },
    {
     "data": {
      "image/png": "[encoded data removed]",
      "text/plain": [
       "<Figure size 432x288 with 1 Axes>"
      ]
     },
     "metadata": {
      "needs_background": "light"
     },
     "output_type": "display_data"
    }
   ],
   "source": [
    "print(rh_data[\"average_montly_hours\"].describe())\n",
    "sns.boxplot(data = rh_data, y = \"average_montly_hours\")"
   ]
  },
  {
   "cell_type": "code",
   "execution_count": 17,
   "id": "e2dab1bb",
   "metadata": {},
   "outputs": [
    {
     "data": {
      "text/plain": [
       "array(['sales', 'accounting', 'hr', 'technical', 'support', 'management',\n",
       "       'IT', 'product_mng', 'marketing', 'RandD'], dtype=object)"
      ]
     },
     "execution_count": 17,
     "metadata": {},
     "output_type": "execute_result"
    }
   ],
   "source": [
    "# Explorando a coluna \"sales\"\n",
    "rh_data[\"sales\"].unique()"
   ]
  },
  {
   "cell_type": "code",
   "execution_count": 18,
   "id": "bd4f4b9f",
   "metadata": {},
   "outputs": [
    {
     "data": {
      "text/plain": [
       "<AxesSubplot:xlabel='satisfaction_level', ylabel='Density'>"
      ]
     },
     "execution_count": 18,
     "metadata": {},
     "output_type": "execute_result"
    },
    {
     "data": {
      "image/png": "[encoded data removed]",
      "text/plain": [
       "<Figure size 864x576 with 1 Axes>"
      ]
     },
     "metadata": {
      "needs_background": "light"
     },
     "output_type": "display_data"
    }
   ],
   "source": [
    "plt.figure(figsize=(12,8))\n",
    "sns.kdeplot(data = rh_data, x = \"satisfaction_level\", hue= \"sales\")"
   ]
  },
  {
   "cell_type": "markdown",
   "id": "8e48106e",
   "metadata": {},
   "source": [
    "## Conclusão da EDA: \n",
    "\n",
    "- Através do comando describe percebemos que o valor da média é menor que o da mediana, o que implica em uma distribuição de dados assimétrica negativa (ou a esquerda), mas por causa do alto valor de distorção é perceptivel que à uma distribuição enviesada dos dados. Como é perceptivel no histograma que é plotado após esse tópico. \n",
    "- É observável também através do KDEplot que pessoas com uma faixa salarial considerada média ou baixa tem uma curva um pouco maior a esquerda, representando uma maior quantidade de profissionais insatisfeitos com suas posições.\n",
    "- No gráfico de barras distribuido pelo referencial salarial profissionais que tem uma alta demanda de projetos tendem a serem menos satisfeitos.\n",
    "- Observamos que a média de horas trabalhadas é de 201 horas por mês, sendo que alguns profissionais chegam a trabalhar até 310 horas ao mês.\n",
    "- Explorando a coluna \"sales\" é visivel que ela se trata dos departamentos ao qual os funcionários pertecem."
   ]
  },
  {
   "cell_type": "markdown",
   "id": "ab7571df",
   "metadata": {},
   "source": [
    "# Pré-processamento dos dados"
   ]
  },
  {
   "cell_type": "code",
   "execution_count": 19,
   "id": "8e119940",
   "metadata": {},
   "outputs": [],
   "source": [
    "# Alterando o nome da coluna\n",
    "\n",
    "rh_data = rh_data.rename(columns= {\"sales\" : \"department\"})"
   ]
  },
  {
   "cell_type": "code",
   "execution_count": 20,
   "id": "f33da09a",
   "metadata": {},
   "outputs": [
    {
     "data": {
      "text/plain": [
       "array(['sales', 'accounting', 'hr', 'technical', 'support', 'management',\n",
       "       'IT', 'product_mng', 'marketing', 'RandD'], dtype=object)"
      ]
     },
     "execution_count": 20,
     "metadata": {},
     "output_type": "execute_result"
    }
   ],
   "source": [
    "# Verificando a coluna \"department\"\n",
    "\n",
    "rh_data[\"department\"].unique()"
   ]
  },
  {
   "cell_type": "code",
   "execution_count": 21,
   "id": "f15adb29",
   "metadata": {},
   "outputs": [],
   "source": [
    "# Transformando as colunas categóricas em numericas\n",
    "\n",
    "rh_data = pd.get_dummies(rh_data)"
   ]
  },
  {
   "cell_type": "code",
   "execution_count": 22,
   "id": "dc4817a8",
   "metadata": {},
   "outputs": [
    {
     "data": {
      "text/plain": [
       "Index(['satisfaction_level', 'last_evaluation', 'number_project',\n",
       "       'average_montly_hours', 'time_spend_company', 'Work_accident', 'left',\n",
       "       'promotion_last_5years', 'department_IT', 'department_RandD',\n",
       "       'department_accounting', 'department_hr', 'department_management',\n",
       "       'department_marketing', 'department_product_mng', 'department_sales',\n",
       "       'department_support', 'department_technical', 'salary_high',\n",
       "       'salary_low', 'salary_medium'],\n",
       "      dtype='object')"
      ]
     },
     "execution_count": 22,
     "metadata": {},
     "output_type": "execute_result"
    }
   ],
   "source": [
    "rh_data.columns"
   ]
  },
  {
   "cell_type": "code",
   "execution_count": 23,
   "id": "cd763e6a",
   "metadata": {},
   "outputs": [],
   "source": [
    "# Separando as variáveis explicativas e Target\n",
    "\n",
    "X = rh_data.drop(\"left\", axis=1)\n",
    "y = rh_data[\"left\"]"
   ]
  },
  {
   "cell_type": "markdown",
   "id": "d31e067b",
   "metadata": {},
   "source": [
    "# Construção do Modelo\n",
    "\n",
    "Vou utilizar um método de seleção de recursos para decidir quais as melhores variáveis para prever a rotatividade de funcionários."
   ]
  },
  {
   "cell_type": "code",
   "execution_count": 24,
   "id": "5b8fbdec",
   "metadata": {
    "scrolled": true
   },
   "outputs": [
    {
     "name": "stderr",
     "output_type": "stream",
     "text": [
      "C:\\ProgramData\\Anaconda3\\lib\\site-packages\\sklearn\\linear_model\\_logistic.py:763: ConvergenceWarning: lbfgs failed to converge (status=1):\n",
      "STOP: TOTAL NO. of ITERATIONS REACHED LIMIT.\n",
      "\n",
      "Increase the number of iterations (max_iter) or scale the data as shown in:\n",
      "    https://scikit-learn.org/stable/modules/preprocessing.html\n",
      "Please also refer to the documentation for alternative solver options:\n",
      "    https://scikit-learn.org/stable/modules/linear_model.html#logistic-regression\n",
      "  n_iter_i = _check_optimize_result(\n"
     ]
    },
    {
     "name": "stdout",
     "output_type": "stream",
     "text": [
      "[ True  True False False  True  True  True False  True False  True  True\n",
      " False False False False False  True  True False]\n",
      "[ 1  1  3 11  1  1  1  9  1  6  1  1  7 10  8  5  4  1  1  2]\n"
     ]
    }
   ],
   "source": [
    "model = LogisticRegression()\n",
    "rfe = RFE(estimator=model, n_features_to_select=10, step=1)\n",
    "rfe = rfe.fit(X, y)\n",
    "print(rfe.support_)\n",
    "print(rfe.ranking_)"
   ]
  },
  {
   "cell_type": "markdown",
   "id": "1c9a57e4",
   "metadata": {},
   "source": [
    "# Interpretando\n",
    "\n",
    "Foram escolhidas 10 variáveis que são as marcadas como True no array support_ e marcadas como 1 no array ranking_."
   ]
  },
  {
   "cell_type": "code",
   "execution_count": 25,
   "id": "c3a9fc0e",
   "metadata": {},
   "outputs": [],
   "source": [
    "# Essas foram as colunas selecionadas.\n",
    "\n",
    "cols = ['satisfaction_level', 'last_evaluation', 'time_spend_company', 'Work_accident', 'promotion_last_5years',\n",
    "        'department_RandD', 'department_accounting', 'department_hr', 'salary_high', 'salary_low']"
   ]
  },
  {
   "cell_type": "code",
   "execution_count": 27,
   "id": "80053181",
   "metadata": {},
   "outputs": [],
   "source": [
    "# Separando as colunas pré-selecionadas para o modelo.\n",
    "\n",
    "X = rh_data.drop(columns=[\"left\", 'number_project', 'average_montly_hours', 'department_IT', 'department_management',\n",
    "                           'department_marketing', 'department_product_mng', 'department_sales', 'department_support',\n",
    "                           'department_technical', \"salary_medium\"])\n",
    "y = rh_data[\"left\"]"
   ]
  },
  {
   "cell_type": "code",
   "execution_count": 28,
   "id": "9ae5f647",
   "metadata": {},
   "outputs": [],
   "source": [
    "# Separando os dados em treino e teste.\n",
    "X_train, X_test, y_train, y_test = train_test_split(X, y, test_size=0.2, random_state=0)"
   ]
  },
  {
   "cell_type": "markdown",
   "id": "8fee54c5",
   "metadata": {},
   "source": [
    "#### Utilizando Regressão Logistica"
   ]
  },
  {
   "cell_type": "code",
   "execution_count": 29,
   "id": "bcf0625b",
   "metadata": {},
   "outputs": [
    {
     "data": {
      "text/plain": [
       "LogisticRegression()"
      ]
     },
     "execution_count": 29,
     "metadata": {},
     "output_type": "execute_result"
    }
   ],
   "source": [
    "# Preparando o modelo de Regressão Logistica\n",
    "logreg = LogisticRegression()\n",
    "logreg.fit(X_train, y_train)"
   ]
  },
  {
   "cell_type": "code",
   "execution_count": 30,
   "id": "6286eae9",
   "metadata": {},
   "outputs": [
    {
     "name": "stdout",
     "output_type": "stream",
     "text": [
      "Acurácia da Regressão Logistica: 0.766\n"
     ]
    }
   ],
   "source": [
    "# Verificando a acurácia\n",
    "print(\"Acurácia da Regressão Logistica: {:.3f}\".format(metrics.accuracy_score(y_test, logreg.predict(X_test))))"
   ]
  },
  {
   "cell_type": "markdown",
   "id": "62de8fc2",
   "metadata": {},
   "source": [
    "#### Utilizando Random Forest"
   ]
  },
  {
   "cell_type": "code",
   "execution_count": 31,
   "id": "b235c84a",
   "metadata": {},
   "outputs": [
    {
     "data": {
      "text/plain": [
       "RandomForestClassifier()"
      ]
     },
     "execution_count": 31,
     "metadata": {},
     "output_type": "execute_result"
    }
   ],
   "source": [
    "# Preparando o modelo de RandomForest\n",
    "\n",
    "rf = RandomForestClassifier()\n",
    "rf.fit(X_train,y_train)"
   ]
  },
  {
   "cell_type": "code",
   "execution_count": 32,
   "id": "c1743001",
   "metadata": {},
   "outputs": [
    {
     "name": "stdout",
     "output_type": "stream",
     "text": [
      "Acurácia da Floresta Aleátoria: 0.980\n"
     ]
    }
   ],
   "source": [
    "# Verificando a acurácia do RandomForest\n",
    "\n",
    "print(\"Acurácia da Floresta Aleátoria: {:.3f}\".format(metrics.accuracy_score(y_test, rf.predict(X_test))))"
   ]
  },
  {
   "cell_type": "markdown",
   "id": "4fc8d110",
   "metadata": {},
   "source": [
    "#### Utilizando XGBoost"
   ]
  },
  {
   "cell_type": "code",
   "execution_count": 33,
   "id": "da959ffe",
   "metadata": {},
   "outputs": [
    {
     "name": "stdout",
     "output_type": "stream",
     "text": [
      "[08:58:37] WARNING: C:/Users/Administrator/workspace/xgboost-win64_release_1.5.1/src/learner.cc:1115: Starting in XGBoost 1.3.0, the default evaluation metric used with the objective 'binary:logistic' was changed from 'error' to 'logloss'. Explicitly set eval_metric if you'd like to restore the old behavior.\n"
     ]
    },
    {
     "name": "stderr",
     "output_type": "stream",
     "text": [
      "C:\\ProgramData\\Anaconda3\\lib\\site-packages\\xgboost\\sklearn.py:1224: UserWarning: The use of label encoder in XGBClassifier is deprecated and will be removed in a future release. To remove this warning, do the following: 1) Pass option use_label_encoder=False when constructing XGBClassifier object; and 2) Encode your labels (y) as integers starting with 0, i.e. 0, 1, 2, ..., [num_class - 1].\n",
      "  warnings.warn(label_encoder_deprecation_msg, UserWarning)\n"
     ]
    },
    {
     "data": {
      "text/plain": [
       "XGBClassifier(base_score=0.5, booster='gbtree', colsample_bylevel=1,\n",
       "              colsample_bynode=1, colsample_bytree=1, enable_categorical=False,\n",
       "              gamma=0, gpu_id=-1, importance_type=None,\n",
       "              interaction_constraints='', learning_rate=0.8, max_delta_step=0,\n",
       "              max_depth=7, min_child_weight=1, missing=nan,\n",
       "              monotone_constraints='()', n_estimators=5000, n_jobs=8,\n",
       "              num_parallel_tree=1, predictor='auto', random_state=0,\n",
       "              reg_alpha=0, reg_lambda=1, scale_pos_weight=1, subsample=1,\n",
       "              tree_method='exact', validate_parameters=1, verbosity=None)"
      ]
     },
     "execution_count": 33,
     "metadata": {},
     "output_type": "execute_result"
    }
   ],
   "source": [
    "xgb = XGBClassifier(n_estimators=5000, learning_rate=0.8, max_depth=7)\n",
    "xgb.fit(X_train, y_train)"
   ]
  },
  {
   "cell_type": "code",
   "execution_count": 34,
   "id": "c0a0c1b5",
   "metadata": {},
   "outputs": [
    {
     "name": "stdout",
     "output_type": "stream",
     "text": [
      "Acurácia da Floresta Aleátoria: 0.976\n"
     ]
    }
   ],
   "source": [
    "# Verificando a acurácia do XGB\n",
    "\n",
    "print(\"Acurácia da Floresta Aleátoria: {:.3f}\".format(metrics.accuracy_score(y_test, xgb.predict(X_test))))"
   ]
  },
  {
   "cell_type": "markdown",
   "id": "ae3e57e1",
   "metadata": {},
   "source": [
    "# Avaliação Final"
   ]
  },
  {
   "cell_type": "code",
   "execution_count": 35,
   "id": "5b812501",
   "metadata": {},
   "outputs": [
    {
     "name": "stdout",
     "output_type": "stream",
     "text": [
      "              precision    recall  f1-score   support\n",
      "\n",
      "           0       0.99      0.99      0.99      2299\n",
      "           1       0.95      0.96      0.96       701\n",
      "\n",
      "    accuracy                           0.98      3000\n",
      "   macro avg       0.97      0.97      0.97      3000\n",
      "weighted avg       0.98      0.98      0.98      3000\n",
      "\n"
     ]
    }
   ],
   "source": [
    "# Avaliação do Classification report\n",
    "\n",
    "print(metrics.classification_report(y_test, rf.predict(X_test)))"
   ]
  },
  {
   "cell_type": "code",
   "execution_count": 36,
   "id": "c6508bb1",
   "metadata": {},
   "outputs": [
    {
     "data": {
      "text/plain": [
       "Text(0.5, 1.0, 'Random Forest')"
      ]
     },
     "execution_count": 36,
     "metadata": {},
     "output_type": "execute_result"
    },
    {
     "data": {
      "image/png": "[encoded data removed]",
      "text/plain": [
       "<Figure size 432x288 with 2 Axes>"
      ]
     },
     "metadata": {
      "needs_background": "light"
     },
     "output_type": "display_data"
    }
   ],
   "source": [
    "# Avaliação com a Confusion Matrix\n",
    "\n",
    "y_pred = rf.predict(X_test)\n",
    "\n",
    "forest_cm = metrics.confusion_matrix(y_pred, y_test)\n",
    "sns.heatmap(forest_cm, annot = True, fmt = \".2f\", xticklabels = [\"Left\", \"Stayed\"], yticklabels = [\"Left\", \"Stayed\"])\n",
    "plt.ylabel(\"Classe Verdadeira\")\n",
    "plt.xlabel(\"Classe Predita\")\n",
    "plt.title(\"Random Forest\")"
   ]
  },
  {
   "cell_type": "code",
   "execution_count": 37,
   "id": "7dc65421",
   "metadata": {},
   "outputs": [
    {
     "data": {
      "text/plain": [
       "<matplotlib.legend.Legend at 0x2af5fe480d0>"
      ]
     },
     "execution_count": 37,
     "metadata": {},
     "output_type": "execute_result"
    },
    {
     "data": {
      "image/png": "[encoded data removed]",
      "text/plain": [
       "<Figure size 864x576 with 1 Axes>"
      ]
     },
     "metadata": {
      "needs_background": "light"
     },
     "output_type": "display_data"
    }
   ],
   "source": [
    "logit_roc_auc = metrics.roc_auc_score(y_test, logreg.predict(X_test))\n",
    "fpr, tpr, thresholds = metrics.roc_curve(y_test, logreg.predict_proba(X_test)[:,1])\n",
    "rf_roc_auc = metrics.roc_auc_score(y_test, rf.predict(X_test))\n",
    "rf_fpr, rf_tpr, rf_thresholds = metrics.roc_curve(y_test, rf.predict_proba(X_test)[:,1])\n",
    "plt.figure(figsize=(12,8))\n",
    "plt.plot(fpr, tpr, label = \"Regressão Logistica (area = %0.2f)\" % logit_roc_auc)\n",
    "plt.plot(rf_fpr, rf_tpr, label = \"Random Forest (area = %0.2f)\" % rf_roc_auc)\n",
    "plt.plot([0, 1], [0, 1], \"r--\")\n",
    "plt.xlim([0.0, 1.0])\n",
    "plt.ylim([0.0, 1.05])\n",
    "plt.xlabel(\"Falso Positivo\")\n",
    "plt.ylabel(\"Verdadeiro Positivo\")\n",
    "plt.title(\"característica de operação do receptor\")\n",
    "plt.legend(loc = \"lower right\")"
   ]
  },
  {
   "cell_type": "markdown",
   "id": "6842c906",
   "metadata": {},
   "source": [
    "A curva de característica de operação do receptor (ROC) é uma ferramenta padrão utilizada com classificadores binários. A linha pontilhada vermelha representa a curva ROC de um classificador puramente aleatório; um bom classificador fica o mais longe possível dessa linha (em direção ao canto superior esquerdo).\n",
    "\n",
    "Portanto, como podemos ver que o modelo de floresta aleatória provou ser mais útil na previsão da rotatividade de funcionários, agora vamos dar uma olhada na importância dos recursos de nosso modelo de classificação de floresta aleatória."
   ]
  },
  {
   "cell_type": "markdown",
   "id": "18804742",
   "metadata": {},
   "source": [
    "# Importância das Variáveis"
   ]
  },
  {
   "cell_type": "markdown",
   "id": "14a080c6",
   "metadata": {},
   "source": [
    "Dado nosso modelo de classificação Random Forest, os aspectos acima mostram as características mais importantes que irão influenciar a saída do funcionário da empresa, em ordem crescente."
   ]
  },
  {
   "cell_type": "code",
   "execution_count": 38,
   "id": "a0871cd7",
   "metadata": {},
   "outputs": [
    {
     "name": "stdout",
     "output_type": "stream",
     "text": [
      "promotion_last_5years-0.25%\n",
      "department_RandD-0.27%\n",
      "department_hr-0.27%\n",
      "department_accounting-0.32%\n",
      "salary_high-0.76%\n",
      "salary_low-1.08%\n",
      "Work_accident-1.46%\n",
      "last_evaluation-19.13%\n",
      "time_spend_company-26.41%\n",
      "satisfaction_level-50.04%\n"
     ]
    }
   ],
   "source": [
    "feature_labels = np.array(['satisfaction_level', 'last_evaluation', 'time_spend_company', 'Work_accident',\n",
    "                           'promotion_last_5years','department_RandD', 'department_accounting', 'department_hr', 'salary_high',\n",
    "                           'salary_low'])\n",
    "\n",
    "importance = rf.feature_importances_\n",
    "feature_indexes_by_importance = importance.argsort()\n",
    "for index in feature_indexes_by_importance:\n",
    "    print(\"{}-{:.2f}%\".format(feature_labels[index], (importance[index]*100.0)))"
   ]
  },
  {
   "cell_type": "markdown",
   "id": "f3c7a42b",
   "metadata": {},
   "source": [
    "# Conclusão\n",
    "\n",
    "- Nosso modelo se mostrou com alta performance com uma curva ROC de 0.97 fora outras metricas que se mostraram boas também.\n",
    "- Conseguimos agora ter noção dos aspectos que mais influenciam e assim ficar de olho neles para combater a rotatividade sendo os 3 principais fatores a Nível de satisfação, o Tempo gasto mensalmente na companhia e a última avaliação dada ao funcionário."
   ]
  },
  {
   "cell_type": "code",
   "execution_count": null,
   "id": "61cda96e",
   "metadata": {},
   "outputs": [],
   "source": []
  }
 ],
 "metadata": {
  "kernelspec": {
   "display_name": "Python 3",
   "language": "python",
   "name": "python3"
  },
  "language_info": {
   "codemirror_mode": {
    "name": "ipython",
    "version": 3
   },
   "file_extension": ".py",
   "mimetype": "text/x-python",
   "name": "python",
   "nbconvert_exporter": "python",
   "pygments_lexer": "ipython3",
   "version": "3.8.8"
  }
 },
 "nbformat": 4,
 "nbformat_minor": 5
}
